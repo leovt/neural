{
 "cells": [
  {
   "cell_type": "code",
   "execution_count": 1,
   "metadata": {},
   "outputs": [
    {
     "data": {
      "text/plain": [
       "array([5, 0, 4, ..., 5, 6, 8], dtype=uint8)"
      ]
     },
     "execution_count": 1,
     "metadata": {},
     "output_type": "execute_result"
    }
   ],
   "source": [
    "import mnist_util\n",
    "import numpy as np\n",
    "np.set_printoptions(precision=3, suppress=True)\n",
    "training_labels = mnist_util.read_labels('mnist/train-labels.idx1-ubyte')\n",
    "training_labels"
   ]
  },
  {
   "cell_type": "code",
   "execution_count": 2,
   "metadata": {},
   "outputs": [
    {
     "data": {
      "text/plain": [
       "array([[0, 0, 0, ..., 0, 0, 0],\n",
       "       [0, 0, 0, ..., 0, 0, 0],\n",
       "       [0, 0, 0, ..., 0, 0, 0],\n",
       "       ...,\n",
       "       [0, 0, 0, ..., 0, 0, 0],\n",
       "       [0, 0, 0, ..., 0, 0, 0],\n",
       "       [0, 0, 0, ..., 0, 0, 0]], dtype=uint8)"
      ]
     },
     "execution_count": 2,
     "metadata": {},
     "output_type": "execute_result"
    }
   ],
   "source": [
    "training_images = mnist_util.read_images('mnist/train-images.idx3-ubyte')\n",
    "training_images"
   ]
  },
  {
   "cell_type": "code",
   "execution_count": 3,
   "metadata": {},
   "outputs": [
    {
     "data": {
      "image/png": "[encoded data removed]",
      "text/plain": [
       "<PIL.Image.Image image mode=L size=28x28 at 0x2660A459E80>"
      ]
     },
     "execution_count": 3,
     "metadata": {},
     "output_type": "execute_result"
    }
   ],
   "source": [
    "import PIL.Image as Im\n",
    "Im.fromarray(255-training_images[0].reshape(28, 28), 'L')"
   ]
  },
  {
   "cell_type": "code",
   "execution_count": 4,
   "metadata": {},
   "outputs": [
    {
     "data": {
      "image/png": "[encoded data removed]",
      "text/plain": [
       "<PIL.Image.Image image mode=L size=640x160 at 0x2660D1D4E80>"
      ]
     },
     "execution_count": 4,
     "metadata": {},
     "output_type": "execute_result"
    }
   ],
   "source": [
    "mnist_util.image_matrix(training_images[:100].reshape(5,20,28,28))"
   ]
  },
  {
   "cell_type": "code",
   "execution_count": 14,
   "metadata": {},
   "outputs": [
    {
     "data": {
      "text/plain": [
       "array([[0.607, 0.584, 0.482, 0.378, 0.553, 0.693, 0.783, 0.659, 0.686,\n",
       "        0.371]])"
      ]
     },
     "execution_count": 14,
     "metadata": {},
     "output_type": "execute_result"
    }
   ],
   "source": [
    "import neural\n",
    "nn = neural.NeuralNetwork([28*28, 16, 10])\n",
    "training_size, = training_labels.shape\n",
    "expected_output = np.zeros((training_size, 10))\n",
    "for i, label in enumerate(training_labels):\n",
    "    expected_output[i][label] = 1\n",
    "training_data = training_images / 255.0\n",
    "nn.apply(training_data[:1])"
   ]
  },
  {
   "cell_type": "code",
   "execution_count": 15,
   "metadata": {},
   "outputs": [
    {
     "data": {
      "text/plain": [
       "array([[0.001, 0.001, 0.   , ..., 0.001, 0.   , 0.001],\n",
       "       [0.001, 0.   , 0.001, ..., 0.001, 0.001, 0.001],\n",
       "       [0.001, 0.001, 0.   , ..., 0.001, 0.001, 0.001],\n",
       "       ...,\n",
       "       [0.   , 0.   , 0.   , ..., 0.001, 0.   , 0.001],\n",
       "       [0.001, 0.001, 0.001, ..., 0.001, 0.001, 0.001],\n",
       "       [0.   , 0.   , 0.001, ..., 0.   , 0.001, 0.   ]])"
      ]
     },
     "execution_count": 15,
     "metadata": {},
     "output_type": "execute_result"
    }
   ],
   "source": [
    "w = nn.weights[0];w"
   ]
  },
  {
   "cell_type": "code",
   "execution_count": 7,
   "metadata": {},
   "outputs": [
    {
     "data": {
      "text/plain": [
       "array([ 0.919, -0.757,  0.438,  0.043, -0.682,  0.974,  0.551, -0.66 ,\n",
       "        0.418, -0.234, -0.753, -0.564, -0.906, -0.859,  0.757,  0.62 ])"
      ]
     },
     "execution_count": 7,
     "metadata": {},
     "output_type": "execute_result"
    }
   ],
   "source": [
    "b = nn.biases[0];b"
   ]
  },
  {
   "cell_type": "code",
   "execution_count": 8,
   "metadata": {},
   "outputs": [],
   "source": [
    "x = training_data[0]\n",
    "z = w.T @ x + b"
   ]
  },
  {
   "cell_type": "code",
   "execution_count": 9,
   "metadata": {},
   "outputs": [
    {
     "data": {
      "text/plain": [
       "array([ 0.987, -0.686,  0.512,  0.108, -0.616,  1.048,  0.62 , -0.596,\n",
       "        0.485, -0.168, -0.688, -0.493, -0.831, -0.79 ,  0.829,  0.689])"
      ]
     },
     "execution_count": 9,
     "metadata": {},
     "output_type": "execute_result"
    }
   ],
   "source": [
    "z"
   ]
  },
  {
   "cell_type": "code",
   "execution_count": 10,
   "metadata": {},
   "outputs": [
    {
     "data": {
      "text/plain": [
       "array([0.728, 0.335, 0.625, 0.527, 0.351, 0.74 , 0.65 , 0.355, 0.619,\n",
       "       0.458, 0.335, 0.379, 0.303, 0.312, 0.696, 0.666])"
      ]
     },
     "execution_count": 10,
     "metadata": {},
     "output_type": "execute_result"
    }
   ],
   "source": [
    "from neural import sigmoid as s\n",
    "s(z)"
   ]
  },
  {
   "cell_type": "code",
   "execution_count": 11,
   "metadata": {},
   "outputs": [
    {
     "data": {
      "text/plain": [
       "array([[0.686, 0.515, 0.481, 0.767, 0.362, 0.729, 0.5  , 0.772, 0.382,\n",
       "        0.429]])"
      ]
     },
     "execution_count": 11,
     "metadata": {},
     "output_type": "execute_result"
    }
   ],
   "source": [
    "nn.apply(training_data[:1])"
   ]
  },
  {
   "cell_type": "code",
   "execution_count": 13,
   "metadata": {},
   "outputs": [
    {
     "ename": "ValueError",
     "evalue": "operands could not be broadcast together with shapes (16,) (10,) ",
     "output_type": "error",
     "traceback": [
      "\u001b[1;31m---------------------------------------------------------------------------\u001b[0m",
      "\u001b[1;31mValueError\u001b[0m                                Traceback (most recent call last)",
      "\u001b[1;32m<ipython-input-13-594de9e2d364>\u001b[0m in \u001b[0;36m<module>\u001b[1;34m\u001b[0m\n\u001b[0;32m      3\u001b[0m     \u001b[0merror\u001b[0m \u001b[1;33m=\u001b[0m \u001b[1;33m(\u001b[0m\u001b[0ms\u001b[0m\u001b[1;33m(\u001b[0m\u001b[0mz\u001b[0m\u001b[1;33m)\u001b[0m \u001b[1;33m-\u001b[0m \u001b[0mexpected_output\u001b[0m\u001b[1;33m[\u001b[0m\u001b[1;36m0\u001b[0m\u001b[1;33m]\u001b[0m\u001b[1;33m)\u001b[0m\u001b[1;33m\u001b[0m\u001b[1;33m\u001b[0m\u001b[0m\n\u001b[0;32m      4\u001b[0m     \u001b[1;32mreturn\u001b[0m \u001b[0merror\u001b[0m\u001b[1;33m.\u001b[0m\u001b[0mdot\u001b[0m\u001b[1;33m(\u001b[0m\u001b[0merror\u001b[0m\u001b[1;33m)\u001b[0m\u001b[1;33m\u001b[0m\u001b[1;33m\u001b[0m\u001b[0m\n\u001b[1;32m----> 5\u001b[1;33m \u001b[0mL\u001b[0m\u001b[1;33m(\u001b[0m\u001b[0mb\u001b[0m\u001b[1;33m)\u001b[0m\u001b[1;33m\u001b[0m\u001b[1;33m\u001b[0m\u001b[0m\n\u001b[0m",
      "\u001b[1;32m<ipython-input-13-594de9e2d364>\u001b[0m in \u001b[0;36mL\u001b[1;34m(b)\u001b[0m\n\u001b[0;32m      1\u001b[0m \u001b[1;32mdef\u001b[0m \u001b[0mL\u001b[0m\u001b[1;33m(\u001b[0m\u001b[0mb\u001b[0m\u001b[1;33m)\u001b[0m\u001b[1;33m:\u001b[0m\u001b[1;33m\u001b[0m\u001b[1;33m\u001b[0m\u001b[0m\n\u001b[0;32m      2\u001b[0m     \u001b[0mz\u001b[0m \u001b[1;33m=\u001b[0m \u001b[0mw\u001b[0m\u001b[1;33m.\u001b[0m\u001b[0mT\u001b[0m \u001b[1;33m@\u001b[0m \u001b[0mx\u001b[0m \u001b[1;33m+\u001b[0m \u001b[0mb\u001b[0m\u001b[1;33m\u001b[0m\u001b[1;33m\u001b[0m\u001b[0m\n\u001b[1;32m----> 3\u001b[1;33m     \u001b[0merror\u001b[0m \u001b[1;33m=\u001b[0m \u001b[1;33m(\u001b[0m\u001b[0ms\u001b[0m\u001b[1;33m(\u001b[0m\u001b[0mz\u001b[0m\u001b[1;33m)\u001b[0m \u001b[1;33m-\u001b[0m \u001b[0mexpected_output\u001b[0m\u001b[1;33m[\u001b[0m\u001b[1;36m0\u001b[0m\u001b[1;33m]\u001b[0m\u001b[1;33m)\u001b[0m\u001b[1;33m\u001b[0m\u001b[1;33m\u001b[0m\u001b[0m\n\u001b[0m\u001b[0;32m      4\u001b[0m     \u001b[1;32mreturn\u001b[0m \u001b[0merror\u001b[0m\u001b[1;33m.\u001b[0m\u001b[0mdot\u001b[0m\u001b[1;33m(\u001b[0m\u001b[0merror\u001b[0m\u001b[1;33m)\u001b[0m\u001b[1;33m\u001b[0m\u001b[1;33m\u001b[0m\u001b[0m\n\u001b[0;32m      5\u001b[0m \u001b[0mL\u001b[0m\u001b[1;33m(\u001b[0m\u001b[0mb\u001b[0m\u001b[1;33m)\u001b[0m\u001b[1;33m\u001b[0m\u001b[1;33m\u001b[0m\u001b[0m\n",
      "\u001b[1;31mValueError\u001b[0m: operands could not be broadcast together with shapes (16,) (10,) "
     ]
    }
   ],
   "source": [
    "def L(b):\n",
    "    z = w.T @ x + b\n",
    "    error = (s(z) - expected_output[0])\n",
    "    return error.dot(error)\n",
    "L(b)"
   ]
  },
  {
   "cell_type": "code",
   "execution_count": null,
   "metadata": {},
   "outputs": [],
   "source": [
    "d_cost = 2*(s(z) - expected_output[0])\n",
    "d_b = d_cost * neural.sigmoid_derivative(s(z))"
   ]
  },
  {
   "cell_type": "code",
   "execution_count": null,
   "metadata": {},
   "outputs": [],
   "source": [
    "d_cost, d_b"
   ]
  },
  {
   "cell_type": "code",
   "execution_count": null,
   "metadata": {},
   "outputs": [],
   "source": [
    "e0 = np.array([1.,0,0,0,0,0,0,0,0,0])\n",
    "e5 = np.array([0.,0,0,0,0,1,0,0,0,0])"
   ]
  },
  {
   "cell_type": "code",
   "execution_count": null,
   "metadata": {},
   "outputs": [],
   "source": [
    "h = 0.03\n",
    "(L(b + h*e0) - L(b))/h, (L(b + h*e5) - L(b))/h"
   ]
  },
  {
   "cell_type": "code",
   "execution_count": null,
   "metadata": {},
   "outputs": [],
   "source": [
    "d_w = d_cost * np.outer(x, neural.sigmoid_derivative(s(z)));\n",
    "d_w[14*29]"
   ]
  },
  {
   "cell_type": "code",
   "execution_count": 16,
   "metadata": {},
   "outputs": [
    {
     "name": "stdout",
     "output_type": "stream",
     "text": [
      "0.3368398629436097 90.6 % wrong\n",
      "0.08994552793082439 91.9 % wrong\n",
      "0.08987529589581993 89.9 % wrong\n",
      "0.08983558483124825 87.0 % wrong\n",
      "0.08978585813631783 83.0 % wrong\n",
      "0.08971764829834353 79.6 % wrong\n",
      "0.08961921473952109 79.5 % wrong\n",
      "0.08947192208646289 79.5 % wrong\n",
      "0.08924520044341518 79.4 % wrong\n",
      "0.0888878814253256 79.3 % wrong\n",
      "0.08831456147176787 78.0 % wrong\n",
      "0.08738884744676208 73.0 % wrong\n",
      "0.08592579250291049 70.1 % wrong\n",
      "0.08379921301541782 69.1 % wrong\n",
      "0.08115608411188678 68.0 % wrong\n",
      "0.07831391727030698 66.1 % wrong\n",
      "0.07542439475919313 61.9 % wrong\n",
      "0.07256908940495721 57.3 % wrong\n",
      "0.06985728394877597 52.5 % wrong\n",
      "0.06734827468697072 48.7 % wrong\n",
      "0.06504324432724372 46.1 % wrong\n",
      "0.06292500601241166 43.9 % wrong\n",
      "0.060968303666661436 42.0 % wrong\n",
      "0.05913634053207952 40.1 % wrong\n",
      "0.05738882447374653 37.4 % wrong\n",
      "0.055692412852001986 35.2 % wrong\n",
      "0.05402626885171244 33.3 % wrong\n",
      "0.052380197272708824 32.0 % wrong\n",
      "0.050748966311892095 30.9 % wrong\n",
      "0.04912973015883836 29.9 % wrong\n",
      "0.04752305098647944 28.9 % wrong\n",
      "0.04593543287076717 28.1 % wrong\n",
      "0.04438013480459593 27.4 % wrong\n",
      "0.04287387322260896 26.2 % wrong\n",
      "0.04143095565700907 25.8 % wrong\n",
      "0.040058831797356684 25.1 % wrong\n",
      "0.03875719820975664 23.8 % wrong\n",
      "0.03751970590086526 22.7 % wrong\n",
      "0.03633621312891056 20.8 % wrong\n",
      "0.03519444926452747 18.9 % wrong\n",
      "0.03408112346113054 17.5 % wrong\n",
      "0.03298310956233856 16.3 % wrong\n",
      "0.03188947497177955 15.4 % wrong\n",
      "0.030794561429614356 13.8 % wrong\n",
      "0.02970085424832235 13.1 % wrong\n",
      "0.028619212030893987 12.4 % wrong\n",
      "0.027565269599904275 12.1 % wrong\n",
      "0.02655393201513457 11.5 % wrong\n",
      "0.02559529195920201 11.0 % wrong\n",
      "0.024693593051200047 10.3 % wrong\n",
      "0.02384849274667903 10.0 % wrong\n",
      "0.023057060202404365 9.7 % wrong\n",
      "0.022315433185221143 9.0 % wrong\n",
      "0.021619777396742933 8.9 % wrong\n",
      "0.02096663051304239 8.7 % wrong\n",
      "0.020352879063892514 8.3 % wrong\n",
      "0.01977561900872902 8.1 % wrong\n",
      "0.01923205656789668 8.1 % wrong\n",
      "0.01871948697831956 7.8 % wrong\n",
      "0.018235320427738014 7.4 % wrong\n",
      "0.01777711897349722 7.1 % wrong\n",
      "0.017342626575733433 6.8 % wrong\n",
      "0.016929787052554972 6.5 % wrong\n",
      "0.016536749474810195 6.2 % wrong\n",
      "0.016161862666868063 6.2 % wrong\n",
      "0.01580366181571752 6.2 % wrong\n",
      "0.015460850474512722 6.0 % wrong\n",
      "0.0151322806873422 5.7 % wrong\n",
      "0.014816933135938843 5.4 % wrong\n",
      "0.01451389850164917 5.3 % wrong\n",
      "0.014222360742914497 5.2 % wrong\n",
      "0.013941582658040394 5.0 % wrong\n",
      "0.013670893862752114 4.9 % wrong\n",
      "0.013409681120924848 4.9 % wrong\n",
      "0.013157380816733124 4.6 % wrong\n",
      "0.012913473254088828 4.5 % wrong\n",
      "0.012677478419521531 4.4 % wrong\n",
      "0.01244895284302608 4.3 % wrong\n",
      "0.012227487225247524 4.3 % wrong\n",
      "0.012012704553552465 4.2 % wrong\n",
      "0.011804258491199173 3.9 % wrong\n",
      "0.01160183188430753 3.8 % wrong\n",
      "0.011405135285504749 3.8 % wrong\n",
      "0.011213905437715473 3.6 % wrong\n",
      "0.011027903694059276 3.6 % wrong\n",
      "0.010846914368542026 3.5 % wrong\n",
      "0.01067074301739087 3.4 % wrong\n",
      "0.010499214645723495 3.4 % wrong\n",
      "0.010332171825319975 3.4 % wrong\n",
      "0.01016947270526098 3.3 % wrong\n",
      "0.010010988906100077 3.3 % wrong\n",
      "0.009856603313612572 3.3 % wrong\n",
      "0.00970620782610402 3.2 % wrong\n",
      "0.00955970114825023 3.1 % wrong\n",
      "0.009416986749369954 3.1 % wrong\n",
      "0.009277971103157371 2.9 % wrong\n",
      "0.009142562296938257 2.9 % wrong\n",
      "0.009010669049990518 2.9 % wrong\n",
      "0.008882200127466433 2.9 % wrong\n",
      "0.008757064093556517 2.9 % wrong\n"
     ]
    }
   ],
   "source": [
    "M = 1000\n",
    "for i in range(1000):\n",
    "    output = nn.train(training_data[:M], expected_output[:M])\n",
    "    np.set_printoptions(precision=3, suppress=True)\n",
    "    result = np.argmax(output, axis=1)\n",
    "    if i%10 == 0:\n",
    "        print(np.mean(np.square(expected_output[:M] - output)), np.sum(result != training_labels[:M])*100/M, '% wrong')\n"
   ]
  },
  {
   "cell_type": "code",
   "execution_count": 19,
   "metadata": {},
   "outputs": [
    {
     "data": {
      "text/plain": [
       "27"
      ]
     },
     "execution_count": 19,
     "metadata": {},
     "output_type": "execute_result"
    }
   ],
   "source": [
    "result = np.argmax(output, axis=1)\n",
    "np.sum(result != training_labels[:M])"
   ]
  },
  {
   "cell_type": "code",
   "execution_count": 20,
   "metadata": {},
   "outputs": [
    {
     "data": {
      "image/png": "[encoded data removed]",
      "text/plain": [
       "<PIL.Image.Image image mode=L size=864x32 at 0x2660A459390>"
      ]
     },
     "execution_count": 20,
     "metadata": {},
     "output_type": "execute_result"
    }
   ],
   "source": [
    "incorrect = training_images[:M][result != training_labels[:M]]\n",
    "mnist_util.image_matrix(incorrect.reshape(1,27,28,28))"
   ]
  },
  {
   "cell_type": "code",
   "execution_count": 23,
   "metadata": {},
   "outputs": [
    {
     "data": {
      "text/plain": [
       "array([[0.001, 0.057, 0.011, 0.021, 0.   , 0.055, 0.143, 0.004, 0.058,\n",
       "        0.068],\n",
       "       [0.   , 0.015, 0.002, 0.048, 0.011, 0.001, 0.   , 0.538, 0.032,\n",
       "        0.445],\n",
       "       [0.005, 0.007, 0.001, 0.084, 0.01 , 0.482, 0.014, 0.003, 0.173,\n",
       "        0.046],\n",
       "       [0.239, 0.003, 0.072, 0.016, 0.002, 0.014, 0.005, 0.064, 0.103,\n",
       "        0.001],\n",
       "       [0.002, 0.051, 0.037, 0.155, 0.   , 0.022, 0.018, 0.021, 0.179,\n",
       "        0.031],\n",
       "       [0.001, 0.004, 0.001, 0.055, 0.186, 0.283, 0.029, 0.001, 0.151,\n",
       "        0.046],\n",
       "       [0.003, 0.013, 0.001, 0.011, 0.003, 0.01 , 0.   , 0.162, 0.067,\n",
       "        0.09 ],\n",
       "       [0.003, 0.002, 0.001, 0.023, 0.098, 0.304, 0.043, 0.001, 0.038,\n",
       "        0.17 ],\n",
       "       [0.208, 0.008, 0.081, 0.01 , 0.005, 0.126, 0.17 , 0.001, 0.001,\n",
       "        0.002],\n",
       "       [0.047, 0.018, 0.153, 0.012, 0.   , 0.034, 0.39 , 0.013, 0.026,\n",
       "        0.003],\n",
       "       [0.   , 0.27 , 0.028, 0.16 , 0.004, 0.021, 0.008, 0.003, 0.011,\n",
       "        0.01 ],\n",
       "       [0.004, 0.005, 0.398, 0.025, 0.159, 0.001, 0.021, 0.002, 0.027,\n",
       "        0.007],\n",
       "       [0.766, 0.001, 0.087, 0.002, 0.006, 0.004, 0.005, 0.042, 0.004,\n",
       "        0.   ],\n",
       "       [0.015, 0.003, 0.055, 0.007, 0.009, 0.059, 0.09 , 0.   , 0.028,\n",
       "        0.02 ],\n",
       "       [0.006, 0.004, 0.   , 0.001, 0.149, 0.058, 0.004, 0.018, 0.042,\n",
       "        0.121],\n",
       "       [0.109, 0.001, 0.002, 0.   , 0.564, 0.002, 0.004, 0.364, 0.002,\n",
       "        0.033],\n",
       "       [0.098, 0.003, 0.321, 0.01 , 0.004, 0.002, 0.007, 0.039, 0.005,\n",
       "        0.001],\n",
       "       [0.325, 0.001, 0.341, 0.002, 0.001, 0.001, 0.008, 0.029, 0.007,\n",
       "        0.   ],\n",
       "       [0.001, 0.003, 0.   , 0.002, 0.34 , 0.101, 0.011, 0.043, 0.059,\n",
       "        0.571],\n",
       "       [0.096, 0.002, 0.137, 0.006, 0.126, 0.004, 0.024, 0.016, 0.008,\n",
       "        0.002],\n",
       "       [0.017, 0.002, 0.015, 0.   , 0.087, 0.001, 0.038, 0.234, 0.021,\n",
       "        0.183],\n",
       "       [0.009, 0.002, 0.218, 0.001, 0.086, 0.   , 0.026, 0.237, 0.003,\n",
       "        0.084],\n",
       "       [0.003, 0.05 , 0.028, 0.12 , 0.   , 0.057, 0.074, 0.015, 0.096,\n",
       "        0.012],\n",
       "       [0.001, 0.005, 0.   , 0.003, 0.013, 0.004, 0.001, 0.132, 0.002,\n",
       "        0.399],\n",
       "       [0.428, 0.001, 0.097, 0.004, 0.011, 0.009, 0.009, 0.008, 0.004,\n",
       "        0.   ],\n",
       "       [0.002, 0.021, 0.325, 0.059, 0.   , 0.002, 0.005, 0.014, 0.447,\n",
       "        0.005],\n",
       "       [0.008, 0.004, 0.017, 0.025, 0.092, 0.055, 0.04 , 0.001, 0.016,\n",
       "        0.002]])"
      ]
     },
     "execution_count": 23,
     "metadata": {},
     "output_type": "execute_result"
    }
   ],
   "source": [
    "output[result != training_labels[:M]]"
   ]
  },
  {
   "cell_type": "code",
   "execution_count": 24,
   "metadata": {},
   "outputs": [
    {
     "data": {
      "text/plain": [
       "array([[0.04 , 0.004, 0.002, 0.202, 0.   , 0.415, 0.006, 0.006, 0.022,\n",
       "        0.019],\n",
       "       [0.946, 0.   , 0.031, 0.014, 0.002, 0.051, 0.002, 0.037, 0.002,\n",
       "        0.   ],\n",
       "       [0.006, 0.001, 0.043, 0.062, 0.886, 0.004, 0.018, 0.012, 0.006,\n",
       "        0.018],\n",
       "       [0.   , 0.946, 0.083, 0.011, 0.002, 0.006, 0.013, 0.016, 0.063,\n",
       "        0.007],\n",
       "       [0.   , 0.008, 0.   , 0.003, 0.158, 0.006, 0.004, 0.059, 0.039,\n",
       "        0.814],\n",
       "       [0.021, 0.005, 0.672, 0.011, 0.001, 0.002, 0.048, 0.004, 0.077,\n",
       "        0.007],\n",
       "       [0.   , 0.967, 0.027, 0.081, 0.001, 0.027, 0.025, 0.005, 0.045,\n",
       "        0.084],\n",
       "       [0.006, 0.005, 0.055, 0.946, 0.002, 0.037, 0.001, 0.005, 0.02 ,\n",
       "        0.009],\n",
       "       [0.   , 0.941, 0.014, 0.021, 0.001, 0.028, 0.019, 0.031, 0.094,\n",
       "        0.093],\n",
       "       [0.01 , 0.001, 0.006, 0.012, 0.976, 0.029, 0.027, 0.007, 0.015,\n",
       "        0.018]])"
      ]
     },
     "execution_count": 24,
     "metadata": {},
     "output_type": "execute_result"
    }
   ],
   "source": [
    "output[:10]"
   ]
  },
  {
   "cell_type": "code",
   "execution_count": null,
   "metadata": {},
   "outputs": [],
   "source": []
  },
  {
   "cell_type": "code",
   "execution_count": null,
   "metadata": {},
   "outputs": [],
   "source": []
  }
 ],
 "metadata": {
  "kernelspec": {
   "display_name": "Python 3",
   "language": "python",
   "name": "python3"
  },
  "language_info": {
   "codemirror_mode": {
    "name": "ipython",
    "version": 3
   },
   "file_extension": ".py",
   "mimetype": "text/x-python",
   "name": "python",
   "nbconvert_exporter": "python",
   "pygments_lexer": "ipython3",
   "version": "3.7.3"
  }
 },
 "nbformat": 4,
 "nbformat_minor": 4
}
